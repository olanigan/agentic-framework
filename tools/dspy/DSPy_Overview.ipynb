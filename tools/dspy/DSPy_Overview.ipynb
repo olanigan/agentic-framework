{
  "nbformat": 4,
  "nbformat_minor": 0,
  "metadata": {
    "colab": {
      "provenance": [],
      "authorship_tag": "ABX9TyOCI+8k7JNOVFJ2oVuGnaHz",
      "include_colab_link": true
    },
    "kernelspec": {
      "name": "python3",
      "display_name": "Python 3"
    },
    "language_info": {
      "name": "python"
    }
  },
  "cells": [
    {
      "cell_type": "markdown",
      "metadata": {
        "id": "view-in-github",
        "colab_type": "text"
      },
      "source": [
        "<a href=\"https://colab.research.google.com/github/olanigan/agentic-framework/blob/main/tools/dspy/DSPy_Overview.ipynb\" target=\"_parent\"><img src=\"https://colab.research.google.com/assets/colab-badge.svg\" alt=\"Open In Colab\"/></a>"
      ]
    },
    {
      "cell_type": "markdown",
      "source": [
        "# DSPy Zero-to-Hero\n"
      ],
      "metadata": {
        "id": "HoWt2nSzHJVL"
      }
    },
    {
      "cell_type": "markdown",
      "source": [
        "## Setup"
      ],
      "metadata": {
        "id": "4b2NNrTXHTbU"
      }
    },
    {
      "cell_type": "code",
      "execution_count": null,
      "metadata": {
        "id": "zf--ydidG_uB"
      },
      "outputs": [],
      "source": [
        "!pip install -q dspy-ai\n",
        "from google.colab import userdata\n",
        "import os\n",
        "os.environ['OPENAI_API_KEY'] = userdata.get('OPENAI_API_KEY')"
      ]
    },
    {
      "cell_type": "code",
      "source": [
        "import dspy\n",
        "lm = dspy.LM('openai/gpt-4o-mini')\n",
        "dspy.configure(lm=lm)"
      ],
      "metadata": {
        "id": "fRlL5ZHdHcF7"
      },
      "execution_count": null,
      "outputs": []
    },
    {
      "cell_type": "code",
      "source": [
        "lm(messages=[{\"role\": \"user\", \"content\": \"Say oruko mi ni Bayo!\"}])"
      ],
      "metadata": {
        "colab": {
          "base_uri": "https://localhost:8080/"
        },
        "id": "bZBuxFYRHpCc",
        "outputId": "72a03316-8feb-44e2-a37f-5f803bc0abd3"
      },
      "execution_count": null,
      "outputs": [
        {
          "output_type": "execute_result",
          "data": {
            "text/plain": [
              "['Bawo ni, Bayo! Bawo ni mo ṣe le ran ọ lọwọ loni?']"
            ]
          },
          "metadata": {},
          "execution_count": 9
        }
      ]
    },
    {
      "cell_type": "markdown",
      "source": [
        "## Signatures"
      ],
      "metadata": {
        "id": "xIAIoMqzIRFU"
      }
    },
    {
      "cell_type": "code",
      "source": [
        "qa = dspy.Predict('question -> answer')\n",
        "response = qa(question=\"Who is the governor of Lagos?\")\n",
        "print(\"Response: \", response.answer)"
      ],
      "metadata": {
        "colab": {
          "base_uri": "https://localhost:8080/"
        },
        "id": "EL9h3PkYIccV",
        "outputId": "abefb6e6-1fc9-49d3-8af9-bbbfb0f4926a"
      },
      "execution_count": null,
      "outputs": [
        {
          "output_type": "stream",
          "name": "stdout",
          "text": [
            "Response:  As of October 2023, the governor of Lagos State is Babajide Sanwo-Olu. He has been in office since May 29, 2019.\n"
          ]
        }
      ]
    },
    {
      "cell_type": "code",
      "source": [
        "# Single Input & Output\n",
        "sum = dspy.Predict('document -> summary')\n",
        "document = \"\"\"\n",
        "Aucanquilcha is a massive stratovolcano located in the Antofagasta Region of northern Chile, just west of the border with Bolivia and within the Alto Loa National Reserve. Part of the Central Volcanic Zone of the Andes, the stratovolcano has the form of a ridge with a maximum height of 6,176 metres (20,262 ft). The volcano is embedded in a larger cluster of volcanoes known as the Aucanquilcha cluster. This cluster of volcanoes was formed in stages over eleven million years of activity with varying magma output, including lava domes and lava flows. Aucanquilcha volcano proper is formed from four units that erupted between 1.04–0.23 million years ago. During the ice ages, both the principal Aucanquilcha complex and the other volcanoes of the cluster were subject to glaciation, resulting in the formation of moraines and cirques.\n",
        "\n",
        "The cluster has generated lava ranging in composition from andesite to dacite, with the main volcano being exclusively of dacitic composition. Systematic variations in temperature, crystal and biotite content have been recorded during the evolution of the cluster.\n",
        "\"\"\"\n",
        "response = sum(document=document)\n",
        "\n",
        "print(\"Summary: \", response.summary)"
      ],
      "metadata": {
        "colab": {
          "base_uri": "https://localhost:8080/"
        },
        "id": "K7xIoYn3JJh1",
        "outputId": "a64ff370-76de-4b4f-a36f-cf0368f1c8f5"
      },
      "execution_count": null,
      "outputs": [
        {
          "output_type": "stream",
          "name": "stdout",
          "text": [
            "Summary:  Aucanquilcha is a prominent stratovolcano in northern Chile, part of the Central Volcanic Zone of the Andes, with a height of 6,176 meters. It is located within the Alto Loa National Reserve and is part of the Aucanquilcha cluster, which formed over eleven million years through various volcanic activities. The main volcano consists of four units that erupted between 1.04 and 0.23 million years ago. The region experienced glaciation during ice ages, leading to the formation of moraines and cirques. The cluster's lava varies in composition from andesite to dacite, with Aucanquilcha primarily composed of dacite, showing systematic variations in temperature and mineral content throughout its evolution.\n"
          ]
        }
      ]
    },
    {
      "cell_type": "code",
      "source": [
        "# Multi Inputs & Outputs\n",
        "multi = dspy.Predict('question, context -> name, profile')\n",
        "\n",
        "question = \"What did I meet?\"\n",
        "context = \"I met Ibrahim Ola, an AI practitioner and educator\"\n",
        "\n",
        "response = multi(question=question, context=context)\n",
        "\n",
        "print(\"Name: \", response.name)\n",
        "print(\"\\nProfile: \", response.profile)"
      ],
      "metadata": {
        "colab": {
          "base_uri": "https://localhost:8080/"
        },
        "id": "42cqep24JMEs",
        "outputId": "c3aa0c6b-d990-4865-8b25-d55d79aa7383"
      },
      "execution_count": null,
      "outputs": [
        {
          "output_type": "stream",
          "name": "stdout",
          "text": [
            "Name:  Ibrahim Ola\n",
            "\n",
            "Profile:  AI practitioner and educator\n"
          ]
        }
      ]
    },
    {
      "cell_type": "code",
      "source": [
        "# Classification with Type Hints\n",
        "\n",
        "emotion = dspy.Predict('input -> sentiment: str, confidence: float, reasoning: str')\n",
        "\n",
        "text = \"I may have enjoyed the movie, I wouldn't be watching it again\"\n",
        "\n",
        "response = emotion(input=text)\n",
        "\n",
        "print(\"Sentiment Classification: \", response.sentiment)\n",
        "print(\"\\nConfidence: \", response.confidence)\n",
        "print(\"\\nReasoning: \", response.reasoning)"
      ],
      "metadata": {
        "colab": {
          "base_uri": "https://localhost:8080/"
        },
        "id": "YV_mbYvaKsNU",
        "outputId": "bb4a9bbc-8e23-4bad-c61b-71c215fe2146"
      },
      "execution_count": null,
      "outputs": [
        {
          "output_type": "stream",
          "name": "stdout",
          "text": [
            "Sentiment Classification:  neutral\n",
            "\n",
            "Confidence:  0.75\n",
            "\n",
            "Reasoning:  The statement expresses a mixed feeling about the movie. The phrase \"I may have enjoyed the movie\" suggests a positive sentiment, but the follow-up \"I wouldn't be watching it again\" indicates a lack of strong enthusiasm or a negative aspect. This combination leads to a neutral sentiment overall, as the enjoyment is tempered by the decision not to rewatch it.\n"
          ]
        }
      ]
    },
    {
      "cell_type": "markdown",
      "source": [
        "### Class-based Signatures"
      ],
      "metadata": {
        "id": "pasZYBoSLxoK"
      }
    },
    {
      "cell_type": "code",
      "source": [
        "from typing import Literal\n",
        "\n",
        "class TextStyleTransfer(dspy.Signature):\n",
        "    \"\"\"Transfer text between different writing styles while preserving content.\"\"\"\n",
        "    text: str = dspy.InputField()\n",
        "    source_style: Literal[\"academic\", \"casual\", \"business\", \"poetic\"] = dspy.InputField()\n",
        "    target_style: Literal[\"academic\", \"casual\", \"business\", \"poetic\"] = dspy.InputField()\n",
        "\n",
        "    preserved_keywords: list[str] = dspy.OutputField()\n",
        "    transformed_text: str = dspy.OutputField()\n",
        "    style_metrics: dict[str, float] = dspy.OutputField(desc=\"Scores for formality, complexity, emotiveness\")\n",
        "\n",
        "\n",
        "text = \"This coffee shop makes the best lattes ever! Their new barista really knows what he's doing with the espresso machine.\"\n",
        "\n",
        "style_transfer = dspy.Predict(TextStyleTransfer)\n",
        "\n",
        "response = style_transfer(\n",
        "    text=text,\n",
        "    source_style=\"casual\",\n",
        "    target_style=\"business\"\n",
        ")\n",
        "\n",
        "print(\"Transformed Text: \", response.transformed_text)\n",
        "print(\"\\nStyle Metrics: \", response.style_metrics)\n",
        "print(\"\\nPreserverd Keywords: \", response.preserved_keywords)"
      ],
      "metadata": {
        "colab": {
          "base_uri": "https://localhost:8080/"
        },
        "id": "9Jw9ur-rL0xa",
        "outputId": "67bbafbe-c8e8-4525-efc5-b28726762655"
      },
      "execution_count": null,
      "outputs": [
        {
          "output_type": "stream",
          "name": "stdout",
          "text": [
            "Transformed Text:  This coffee establishment offers exceptional lattes. The new barista demonstrates a high level of proficiency with the espresso machine.\n",
            "\n",
            "Style Metrics:  {'formality': 0.8, 'complexity': 0.6, 'emotiveness': 0.3}\n",
            "\n",
            "Preserverd Keywords:  ['coffee shop', 'lattes', 'barista', 'espresso machine']\n"
          ]
        }
      ]
    },
    {
      "cell_type": "markdown",
      "source": [
        "## Modules"
      ],
      "metadata": {
        "id": "wuKkpQ6IM3vr"
      }
    },
    {
      "cell_type": "code",
      "source": [
        "## ChainOfThought Module\n",
        "\n",
        "# Define the Signature and Module\n",
        "cot_emotion = dspy.ChainOfThought('input -> sentiment: str')\n",
        "text = \"I may have enjoyed the movie, I wouldn't be watching it again\"\n",
        "\n",
        "# Run\n",
        "cot_response = cot_emotion(input=text)\n",
        "\n",
        "# Output\n",
        "print(\"Sentiment: \", cot_response.sentiment)\n",
        "# Inherently added reasoning\n",
        "print(\"\\nReasoning: \", cot_response.reasoning)"
      ],
      "metadata": {
        "colab": {
          "base_uri": "https://localhost:8080/"
        },
        "id": "xWtL7l7fMq_R",
        "outputId": "57f42a00-011c-4fcf-e968-552229f0b1cb"
      },
      "execution_count": null,
      "outputs": [
        {
          "output_type": "stream",
          "name": "stdout",
          "text": [
            "Sentiment:  Neutral\n",
            "\n",
            "Reasoning:  The statement expresses a mixed sentiment. The phrase \"I may have enjoyed the movie\" indicates a positive experience, suggesting that there were enjoyable aspects. However, the follow-up \"I wouldn't be watching it again\" implies a negative conclusion, indicating that while the experience was pleasant, it was not compelling enough to warrant a repeat viewing. This combination of enjoyment and reluctance to rewatch leads to a neutral sentiment overall.\n"
          ]
        }
      ]
    },
    {
      "cell_type": "code",
      "source": [
        "# Define the Signature\n",
        "class MathAnalysis(dspy.Signature):\n",
        "    \"\"\"Analyze a dataset and compute various statistical metrics.\"\"\"\n",
        "\n",
        "    numbers: list[float] = dspy.InputField(desc=\"List of numerical values to analyze\")\n",
        "    required_metrics: list[str] = dspy.InputField(desc=\"List of metrics to calculate (e.g. ['mean', 'variance', 'quartiles'])\")\n",
        "    analysis_results: dict[str, float] = dspy.OutputField(desc=\"Dictionary containing the calculated metrics\")\n",
        "\n",
        "# Create the module with defined Signature\n",
        "math_analyzer = dspy.ProgramOfThought(MathAnalysis)\n",
        "\n",
        "# Example\n",
        "data = [1.5, 2.8, 3.2, 4.7, 5.1, 2.3, 3.9, 5.3]\n",
        "metrics = ['mean', 'median', 'standard_deviation']\n",
        "\n",
        "# Run\n",
        "pot_response = math_analyzer(\n",
        "    numbers=data,\n",
        "    required_metrics=metrics\n",
        ")\n",
        "\n",
        "import pprint\n",
        "pprint.pprint(pot_response.analysis_results)\n",
        "pprint.pprint(pot_response.reasoning)"
      ],
      "metadata": {
        "id": "LLvurbZUNyeh"
      },
      "execution_count": null,
      "outputs": []
    }
  ]
}