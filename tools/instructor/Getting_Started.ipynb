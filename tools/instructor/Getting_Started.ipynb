{
 "cells": [
  {
   "cell_type": "markdown",
   "metadata": {},
   "source": [
    "## Getting Started with Instructor (Python)"
   ]
  },
  {
   "cell_type": "markdown",
   "metadata": {},
   "source": [
    "According to the author Jason Liu, Instructor is built on top of Pydantic and OpenAI SDK. The OpenAI SDK has become the de-facto tool for interacting with Language Models. All other LLM API providers like Google, Anthropic, Cohere, Replicate and others provide alternate configuration (i.e. `base_url` and `api_key`) that allows the use of the OpenAI library to communicate with their proprietary Language Models.  \n",
    "\n",
    "Pydantic is a popular Python library for data validation using Python type annotations, making it easy to validate complex data structures and automatically generate JSON schemas. Pydantic has become a critical component for the major Generative AI Python tooling like OpenAI SDK, Langchain, LlamaIndex among others.  It has become a go-to tool for validating input and output data among GenAI developers due to its excellent developer experience, strong type safety, and seamless integration with modern Python applications and frameworks.\n"
   ]
  },
  {
   "cell_type": "markdown",
   "metadata": {},
   "source": [
    "### Install Instructor"
   ]
  },
  {
   "cell_type": "code",
   "execution_count": 5,
   "metadata": {},
   "outputs": [],
   "source": [
    "%%capture\n",
    "%pip install -U instructor"
   ]
  },
  {
   "cell_type": "code",
   "execution_count": 6,
   "metadata": {},
   "outputs": [
    {
     "name": "stdout",
     "output_type": "stream",
     "text": [
      "instructor==1.7.0\n",
      "Note: you may need to restart the kernel to use updated packages.\n"
     ]
    }
   ],
   "source": [
    "%pip freeze | grep instructor"
   ]
  }
 ],
 "metadata": {
  "kernelspec": {
   "display_name": ".venv",
   "language": "python",
   "name": "python3"
  },
  "language_info": {
   "codemirror_mode": {
    "name": "ipython",
    "version": 3
   },
   "file_extension": ".py",
   "mimetype": "text/x-python",
   "name": "python",
   "nbconvert_exporter": "python",
   "pygments_lexer": "ipython3",
   "version": "3.11.7"
  }
 },
 "nbformat": 4,
 "nbformat_minor": 2
}
